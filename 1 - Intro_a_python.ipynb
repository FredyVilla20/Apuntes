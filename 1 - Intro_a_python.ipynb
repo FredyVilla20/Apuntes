{
 "cells": [
  {
   "cell_type": "markdown",
   "id": "1b848cbd",
   "metadata": {},
   "source": [
    "![Python](https://www.icog.es/cursos/wp-content/uploads/2020/09/phyton.png)"
   ]
  },
  {
   "cell_type": "code",
   "execution_count": 1,
   "id": "0c42a4f5",
   "metadata": {},
   "outputs": [
    {
     "name": "stdout",
     "output_type": "stream",
     "text": [
      "The Zen of Python, by Tim Peters\n",
      "\n",
      "Beautiful is better than ugly.\n",
      "Explicit is better than implicit.\n",
      "Simple is better than complex.\n",
      "Complex is better than complicated.\n",
      "Flat is better than nested.\n",
      "Sparse is better than dense.\n",
      "Readability counts.\n",
      "Special cases aren't special enough to break the rules.\n",
      "Although practicality beats purity.\n",
      "Errors should never pass silently.\n",
      "Unless explicitly silenced.\n",
      "In the face of ambiguity, refuse the temptation to guess.\n",
      "There should be one-- and preferably only one --obvious way to do it.\n",
      "Although that way may not be obvious at first unless you're Dutch.\n",
      "Now is better than never.\n",
      "Although never is often better than *right* now.\n",
      "If the implementation is hard to explain, it's a bad idea.\n",
      "If the implementation is easy to explain, it may be a good idea.\n",
      "Namespaces are one honking great idea -- let's do more of those!\n"
     ]
    }
   ],
   "source": [
    "import this"
   ]
  },
  {
   "cell_type": "markdown",
   "id": "9aec2fe3",
   "metadata": {},
   "source": [
    "### ZEN THE PYTHON:\n",
    "- Bello es mejor que feo.\n",
    "- Explícito es mejor que implícito.\n",
    "- Simple es mejor que complejo.\n",
    "- Complejo es mejor que complicado.\n",
    "- Plano es mejor que anidado.\n",
    "- Espaciado es mejor que denso.\n",
    "- La legibilidad es importante.\n",
    "- Los casos especiales no son lo suficientemente especiales como para romper las reglas.\n",
    "- Sin embargo la practicidad le gana a la pureza.\n",
    "- Los errores nunca deberían pasar silenciosamente.\n",
    "- A menos que se silencien explícitamente.\n",
    "- Frente a la ambigüedad, evitar la tentación de adivinar.\n",
    "- Debería haber una, y preferiblemente solo una, manera obvia de hacerlo.\n",
    "- A pesar de que eso no sea obvio al principio a menos que seas Holandés.\n",
    "- Ahora es mejor que nunca.\n",
    "- A pesar de que nunca es muchas veces mejor que *ahora* mismo.\n",
    "- Si la implementación es difícil de explicar, es una mala idea.\n",
    "- Si la implementación es fácil de explicar, puede que sea una buena idea.\n",
    "- Los espacios de nombres son una gran idea, ¡tengamos más de esos!"
   ]
  },
  {
   "cell_type": "markdown",
   "id": "3978ab14",
   "metadata": {},
   "source": [
    "### Contenidos:\n",
    "- **Números**:\n",
    "    - Enteros\n",
    "    - Reales\n",
    "    - Complejos\n",
    "    \n",
    "- **Operaciones**\n",
    "\n",
    "- **Booleanos** (True/False)\n",
    "\n",
    "- **Cadenas** (strings)\n",
    "\n",
    "- **NoneType**\n",
    "\n",
    "- **Tipos Compuestos**"
   ]
  },
  {
   "cell_type": "markdown",
   "id": "82e11cf1",
   "metadata": {},
   "source": [
    "### **NÚMEROS ENTEROS (integer)**"
   ]
  },
  {
   "cell_type": "code",
   "execution_count": 9,
   "id": "240f0ae5",
   "metadata": {},
   "outputs": [
    {
     "name": "stdout",
     "output_type": "stream",
     "text": [
      "25\n"
     ]
    }
   ],
   "source": [
    "edad = 25\n",
    "print(edad)"
   ]
  },
  {
   "cell_type": "code",
   "execution_count": 10,
   "id": "1ceb0a81",
   "metadata": {},
   "outputs": [
    {
     "data": {
      "text/plain": [
       "int"
      ]
     },
     "execution_count": 10,
     "metadata": {},
     "output_type": "execute_result"
    }
   ],
   "source": [
    "type(edad)"
   ]
  },
  {
   "cell_type": "code",
   "execution_count": 11,
   "id": "a11a101d",
   "metadata": {},
   "outputs": [
    {
     "data": {
      "text/plain": [
       "int"
      ]
     },
     "execution_count": 11,
     "metadata": {},
     "output_type": "execute_result"
    }
   ],
   "source": [
    "type(5335505050)"
   ]
  },
  {
   "cell_type": "code",
   "execution_count": 12,
   "id": "319a2fff",
   "metadata": {},
   "outputs": [
    {
     "data": {
      "text/plain": [
       "int"
      ]
     },
     "execution_count": 12,
     "metadata": {},
     "output_type": "execute_result"
    }
   ],
   "source": [
    "type(-10)"
   ]
  },
  {
   "cell_type": "markdown",
   "id": "f27aef5a",
   "metadata": {},
   "source": [
    "### **NÚMEROS REALES (float)**"
   ]
  },
  {
   "cell_type": "code",
   "execution_count": 14,
   "id": "08848d0e",
   "metadata": {},
   "outputs": [
    {
     "data": {
      "text/plain": [
       "27.2"
      ]
     },
     "execution_count": 14,
     "metadata": {},
     "output_type": "execute_result"
    }
   ],
   "source": [
    "temperatura = 27.2\n",
    "temperatura"
   ]
  },
  {
   "cell_type": "code",
   "execution_count": 15,
   "id": "2b7e5ac3",
   "metadata": {},
   "outputs": [],
   "source": [
    "temperatura = -12.5"
   ]
  },
  {
   "cell_type": "code",
   "execution_count": 16,
   "id": "06658658",
   "metadata": {},
   "outputs": [
    {
     "data": {
      "text/plain": [
       "-12.5"
      ]
     },
     "execution_count": 16,
     "metadata": {},
     "output_type": "execute_result"
    }
   ],
   "source": [
    "temperatura"
   ]
  },
  {
   "cell_type": "code",
   "execution_count": 17,
   "id": "7823bc30",
   "metadata": {},
   "outputs": [
    {
     "data": {
      "text/plain": [
       "float"
      ]
     },
     "execution_count": 17,
     "metadata": {},
     "output_type": "execute_result"
    }
   ],
   "source": [
    "type(temperatura)"
   ]
  },
  {
   "cell_type": "code",
   "execution_count": 18,
   "id": "4ae51761",
   "metadata": {},
   "outputs": [
    {
     "data": {
      "text/plain": [
       "float"
      ]
     },
     "execution_count": 18,
     "metadata": {},
     "output_type": "execute_result"
    }
   ],
   "source": [
    "pi = 3.141592\n",
    "type(pi)"
   ]
  },
  {
   "cell_type": "code",
   "execution_count": 23,
   "id": "74e0c415",
   "metadata": {},
   "outputs": [
    {
     "data": {
      "text/plain": [
       "0.2"
      ]
     },
     "execution_count": 23,
     "metadata": {},
     "output_type": "execute_result"
    }
   ],
   "source": [
    "decimal = .20\n",
    "decimal"
   ]
  },
  {
   "cell_type": "code",
   "execution_count": 22,
   "id": "2456171b",
   "metadata": {},
   "outputs": [
    {
     "data": {
      "text/plain": [
       "float"
      ]
     },
     "execution_count": 22,
     "metadata": {},
     "output_type": "execute_result"
    }
   ],
   "source": [
    "type(.20)"
   ]
  },
  {
   "cell_type": "code",
   "execution_count": 24,
   "id": "278d7fd5",
   "metadata": {},
   "outputs": [
    {
     "data": {
      "text/plain": [
       "float"
      ]
     },
     "execution_count": 24,
     "metadata": {},
     "output_type": "execute_result"
    }
   ],
   "source": [
    "type(decimal)"
   ]
  },
  {
   "cell_type": "code",
   "execution_count": null,
   "id": "b3dc1d0e",
   "metadata": {},
   "outputs": [],
   "source": [
    "# Markdown https://docs.github.com/es/get-started/writing-on-github/getting-started-with-writing-and-formatting-on-github/basic-writing-and-formatting-syntax"
   ]
  },
  {
   "cell_type": "markdown",
   "id": "9f0ed798",
   "metadata": {},
   "source": [
    "### **NÚMEROS COMPLEJOS (complex)**"
   ]
  },
  {
   "cell_type": "code",
   "execution_count": 25,
   "id": "ac396b14",
   "metadata": {},
   "outputs": [
    {
     "data": {
      "text/plain": [
       "1j"
      ]
     },
     "execution_count": 25,
     "metadata": {},
     "output_type": "execute_result"
    }
   ],
   "source": [
    "1j"
   ]
  },
  {
   "cell_type": "code",
   "execution_count": 26,
   "id": "b55b3349",
   "metadata": {},
   "outputs": [
    {
     "data": {
      "text/plain": [
       "complex"
      ]
     },
     "execution_count": 26,
     "metadata": {},
     "output_type": "execute_result"
    }
   ],
   "source": [
    "type(1j)"
   ]
  },
  {
   "cell_type": "code",
   "execution_count": 27,
   "id": "794a4b4f",
   "metadata": {},
   "outputs": [
    {
     "data": {
      "text/plain": [
       "complex"
      ]
     },
     "execution_count": 27,
     "metadata": {},
     "output_type": "execute_result"
    }
   ],
   "source": [
    "type(5+0j)"
   ]
  },
  {
   "cell_type": "markdown",
   "id": "b68e9fb0",
   "metadata": {},
   "source": [
    "### **OPERACIONES BÁSICAS EN PYTHON**"
   ]
  },
  {
   "cell_type": "code",
   "execution_count": 31,
   "id": "cbd67077",
   "metadata": {},
   "outputs": [
    {
     "data": {
      "text/plain": [
       "257"
      ]
     },
     "execution_count": 31,
     "metadata": {},
     "output_type": "execute_result"
    }
   ],
   "source": [
    "#Suma\n",
    "222+35"
   ]
  },
  {
   "cell_type": "code",
   "execution_count": 32,
   "id": "c490b62a",
   "metadata": {},
   "outputs": [
    {
     "data": {
      "text/plain": [
       "35"
      ]
     },
     "execution_count": 32,
     "metadata": {},
     "output_type": "execute_result"
    }
   ],
   "source": [
    "#Suma  como variable\n",
    "numero = 12\n",
    "freddy = 23\n",
    "numero+freddy"
   ]
  },
  {
   "cell_type": "code",
   "execution_count": 35,
   "id": "e2f33b94",
   "metadata": {},
   "outputs": [
    {
     "data": {
      "text/plain": [
       "-34"
      ]
     },
     "execution_count": 35,
     "metadata": {},
     "output_type": "execute_result"
    }
   ],
   "source": [
    "#Resta\n",
    "numero - (2*freddy)"
   ]
  },
  {
   "cell_type": "code",
   "execution_count": null,
   "id": "4196b847",
   "metadata": {},
   "outputs": [],
   "source": [
    "#Número - variable"
   ]
  },
  {
   "cell_type": "code",
   "execution_count": null,
   "id": "0511a711",
   "metadata": {},
   "outputs": [],
   "source": [
    "#Multiplicacion"
   ]
  },
  {
   "cell_type": "code",
   "execution_count": null,
   "id": "abd1ccc9",
   "metadata": {},
   "outputs": [],
   "source": [
    "#Orden de las operaciones"
   ]
  },
  {
   "cell_type": "code",
   "execution_count": null,
   "id": "b7ef369b",
   "metadata": {},
   "outputs": [],
   "source": [
    "#División"
   ]
  },
  {
   "cell_type": "code",
   "execution_count": null,
   "id": "b7e0a2fc",
   "metadata": {},
   "outputs": [],
   "source": [
    "#División por ceros"
   ]
  },
  {
   "cell_type": "code",
   "execution_count": null,
   "id": "f420737e",
   "metadata": {},
   "outputs": [],
   "source": [
    "#Módulo"
   ]
  },
  {
   "cell_type": "code",
   "execution_count": null,
   "id": "9ae49512",
   "metadata": {},
   "outputs": [],
   "source": [
    "#Floor"
   ]
  },
  {
   "cell_type": "code",
   "execution_count": null,
   "id": "469d0563",
   "metadata": {},
   "outputs": [],
   "source": [
    "#Potencia"
   ]
  },
  {
   "cell_type": "code",
   "execution_count": null,
   "id": "df58d4f9",
   "metadata": {},
   "outputs": [],
   "source": [
    "#raíces"
   ]
  },
  {
   "cell_type": "code",
   "execution_count": null,
   "id": "ec13a6a7",
   "metadata": {},
   "outputs": [],
   "source": [
    "#Conversiones entre números"
   ]
  },
  {
   "cell_type": "code",
   "execution_count": null,
   "id": "71f3d49e",
   "metadata": {},
   "outputs": [],
   "source": [
    "#Redondeo (round)"
   ]
  },
  {
   "cell_type": "code",
   "execution_count": null,
   "id": "994d174e",
   "metadata": {},
   "outputs": [],
   "source": []
  },
  {
   "cell_type": "code",
   "execution_count": null,
   "id": "8f5d2c46",
   "metadata": {},
   "outputs": [],
   "source": []
  },
  {
   "cell_type": "markdown",
   "id": "c721cf9c",
   "metadata": {},
   "source": [
    "### **BOOLEANOS**"
   ]
  },
  {
   "cell_type": "markdown",
   "id": "440db63a",
   "metadata": {},
   "source": [
    "#### Ley de De Morgan\n",
    "```python\n",
    "not (a and b) == (not a) or (not b)\n",
    "not (a or b) == (not a) and (not b)\n",
    "```"
   ]
  },
  {
   "cell_type": "code",
   "execution_count": null,
   "id": "7a26018d",
   "metadata": {},
   "outputs": [],
   "source": [
    "# not (False and True)"
   ]
  },
  {
   "cell_type": "code",
   "execution_count": null,
   "id": "7edf7dd4",
   "metadata": {},
   "outputs": [],
   "source": [
    "# not (False) or not (True)"
   ]
  },
  {
   "cell_type": "markdown",
   "id": "7a2178c1",
   "metadata": {},
   "source": [
    "### **NoneType**"
   ]
  },
  {
   "cell_type": "markdown",
   "id": "87ea6e30",
   "metadata": {},
   "source": [
    "### **CADENAS / STRINGS**"
   ]
  },
  {
   "cell_type": "markdown",
   "id": "04a08f73",
   "metadata": {},
   "source": [
    "   "
   ]
  },
  {
   "cell_type": "markdown",
   "id": "5a589c3f",
   "metadata": {},
   "source": [
    "## **TIPOS COMPUESTOS**\n",
    "\n",
    "### **Listas**:"
   ]
  },
  {
   "cell_type": "code",
   "execution_count": null,
   "id": "a2388121",
   "metadata": {},
   "outputs": [],
   "source": []
  },
  {
   "cell_type": "code",
   "execution_count": null,
   "id": "7bd22d0d",
   "metadata": {},
   "outputs": [],
   "source": []
  },
  {
   "cell_type": "code",
   "execution_count": null,
   "id": "f2e1b789",
   "metadata": {},
   "outputs": [],
   "source": []
  }
 ],
 "metadata": {
  "kernelspec": {
   "display_name": "Python 3 (ipykernel)",
   "language": "python",
   "name": "python3"
  },
  "language_info": {
   "codemirror_mode": {
    "name": "ipython",
    "version": 3
   },
   "file_extension": ".py",
   "mimetype": "text/x-python",
   "name": "python",
   "nbconvert_exporter": "python",
   "pygments_lexer": "ipython3",
   "version": "3.9.7"
  }
 },
 "nbformat": 4,
 "nbformat_minor": 5
}
