{
 "cells": [
  {
   "cell_type": "code",
   "execution_count": null,
   "id": "0c42a4f5",
   "metadata": {},
   "outputs": [],
   "source": [
    "import this"
   ]
  },
  {
   "cell_type": "markdown",
   "id": "9aec2fe3",
   "metadata": {},
   "source": [
    "### ZEN THE PYTHON:\n",
    "- Bello es mejor que feo.\n",
    "- Explícito es mejor que implícito.\n",
    "- Simple es mejor que complejo.\n",
    "- Complejo es mejor que complicado.\n",
    "- Plano es mejor que anidado.\n",
    "- Espaciado es mejor que denso.\n",
    "- La legibilidad es importante.\n",
    "- Los casos especiales no son lo suficientemente especiales como para romper las reglas.\n",
    "- Sin embargo la practicidad le gana a la pureza.\n",
    "- Los errores nunca deberían pasar silenciosamente.\n",
    "- A menos que se silencien explícitamente.\n",
    "- Frente a la ambigüedad, evitar la tentación de adivinar.\n",
    "- Debería haber una, y preferiblemente solo una, manera obvia de hacerlo.\n",
    "- A pesar de que eso no sea obvio al principio a menos que seas Holandés.\n",
    "- Ahora es mejor que nunca.\n",
    "- A pesar de que nunca es muchas veces mejor que *ahora* mismo.\n",
    "- Si la implementación es difícil de explicar, es una mala idea.\n",
    "- Si la implementación es fácil de explicar, puede que sea una buena idea.\n",
    "- Los espacios de nombres son una gran idea, ¡tengamos más de esos!"
   ]
  },
  {
   "cell_type": "markdown",
   "id": "82e11cf1",
   "metadata": {},
   "source": [
    "**NÚMEROS ENTEROS (integer)**"
   ]
  },
  {
   "cell_type": "code",
   "execution_count": null,
   "id": "240f0ae5",
   "metadata": {},
   "outputs": [],
   "source": [
    "edad = 25\n",
    "print(edad)"
   ]
  },
  {
   "cell_type": "code",
   "execution_count": null,
   "id": "1ceb0a81",
   "metadata": {},
   "outputs": [],
   "source": [
    "type(edad)"
   ]
  },
  {
   "cell_type": "code",
   "execution_count": null,
   "id": "a11a101d",
   "metadata": {},
   "outputs": [],
   "source": [
    "type(5335505050)"
   ]
  },
  {
   "cell_type": "code",
   "execution_count": null,
   "id": "319a2fff",
   "metadata": {},
   "outputs": [],
   "source": [
    "type(-10)"
   ]
  },
  {
   "cell_type": "markdown",
   "id": "f27aef5a",
   "metadata": {},
   "source": [
    "**NÚMEROS REALES (float)**"
   ]
  },
  {
   "cell_type": "code",
   "execution_count": null,
   "id": "08848d0e",
   "metadata": {},
   "outputs": [],
   "source": [
    "temperatura = 27.2\n",
    "temperatura"
   ]
  },
  {
   "cell_type": "code",
   "execution_count": null,
   "id": "7823bc30",
   "metadata": {},
   "outputs": [],
   "source": [
    "type(temperatura)"
   ]
  },
  {
   "cell_type": "code",
   "execution_count": null,
   "id": "4ae51761",
   "metadata": {},
   "outputs": [],
   "source": [
    "pi = 3.141592\n",
    "type(pi)"
   ]
  },
  {
   "cell_type": "code",
   "execution_count": null,
   "id": "74e0c415",
   "metadata": {},
   "outputs": [],
   "source": [
    "decimal = .20"
   ]
  },
  {
   "cell_type": "code",
   "execution_count": null,
   "id": "2456171b",
   "metadata": {},
   "outputs": [],
   "source": [
    "type(.20)"
   ]
  },
  {
   "cell_type": "code",
   "execution_count": null,
   "id": "278d7fd5",
   "metadata": {},
   "outputs": [],
   "source": [
    "type(decimal)"
   ]
  },
  {
   "cell_type": "code",
   "execution_count": null,
   "id": "b3dc1d0e",
   "metadata": {},
   "outputs": [],
   "source": []
  }
 ],
 "metadata": {
  "kernelspec": {
   "display_name": "Python 3 (ipykernel)",
   "language": "python",
   "name": "python3"
  },
  "language_info": {
   "codemirror_mode": {
    "name": "ipython",
    "version": 3
   },
   "file_extension": ".py",
   "mimetype": "text/x-python",
   "name": "python",
   "nbconvert_exporter": "python",
   "pygments_lexer": "ipython3",
   "version": "3.9.16"
  }
 },
 "nbformat": 4,
 "nbformat_minor": 5
}
